{
 "cells": [
  {
   "cell_type": "markdown",
   "metadata": {},
   "source": [
    "# Tutorial for Real-Time fMRI Cloud-Based Framework\n",
    "\n",
    "## Overview\n",
    "This tutorial walks through an example using our cloud-based software framework for real-time fMRI studies, henceforth **rtcloud framework**. We have created a sample script (sample.py) in this notebook directory which builds a two-class classifier on a region of interest (ROI). This notebook will generate synthetic data for training and classification using the BrainIAK fmrisim_real_time_generator function.\n",
    "\n",
    "We will begin wrapping the sample.py script within the rtcloud projectInterface. In a normal deployment the projectInterface (and sample.py) would then run in the cloud and the scanner images would be sent to the cloud where our sample.py script would build the classifier model and do classification. The projectInterface handles remote file communication for reading the scanner images and providing the classification results. It also has a web-based user interface for viewing and controlling the experiment and changing settings. In this notebook the different process all run on the the computer that jupyter is running on.\n",
    "\n",
    "In the steps below, we will first start the projectInterface which will watch for dicom files to process. We will then start the synthetic data generator which will generate a new dicom image every 2 seconds. And finally we will start a web browser within this notebook for controlling the experiment. Once you start the web interface you can click the 'Run' button to start the sample.py script watching for and processing images via the projectInterface. (You can also open the web interface on a different tab in your browser, http://localhost:8888)\n",
    "\n",
    "\n",
    "## Table of Contents\n",
    "\n",
    "* [Before Running This Notebook](#setting_up)\n",
    "* [Import Necessary Modules and Declare Important Variables](#import_modules)\n",
    "* [Step 1: Start the ProjectInterface Web Server](#start_ProjectInterface)\n",
    "* [Step 2: Start the Synthetic Data Generator](#start_DataGenerator)\n",
    "* [Step 3: Open the Web Server on the localhost](#open_localhost)\n",
    "* [Conclusion](#conclusion)\n",
    "\n",
    "## Before Running This Notebook <a id='setting_up'></a>\n",
    "\n",
    "Before you are able to run this notebook, you have to complete the installation instructions found in the accompanying [instructions README](https://github.com/brainiak/brainiak-aperture/blob/master/notebooks/real-time/README_INSTRUCTIONS.md). **Also, remember that you have to complete the following steps every time before you are able to run this notebook:**\n",
    "\n",
    "1. Activate the conda environment for the rtcloud framework:\n",
    "```\n",
    "conda activate rtcloud\n",
    "```\n",
    "2. On the command line, create a global variable to the full path for the rtcloud framework repo. You must do this in order to use the functions we have created for the framework. And don't forget the forward slash \"/\" at the end.\n",
    "```\n",
    "export RTCLOUD_PATH=/PATH_TO_RTCLOUD/rt-cloud/\n",
    "```\n",
    "Double check that you did this correctly by typing the following command. \n",
    "```\n",
    "ECHO $RTCLOUD_PATH\n",
    "```\n",
    "This should print the *full* path to the rtcloud framework folder."
   ]
  },
  {
   "cell_type": "markdown",
   "metadata": {},
   "source": [
    "## Import Necessary Modules and Declare Important Variables <a id='import_modules'></a>"
   ]
  },
  {
   "cell_type": "code",
   "execution_count": 1,
   "metadata": {
    "collapsed": true
   },
   "outputs": [],
   "source": [
    "import warnings; warnings.simplefilter('ignore')\n",
    "\n",
    "#---- Import the necessary python modules\n",
    "\n",
    "import os\n",
    "import sys\n",
    "import threading\n",
    "\n",
    "#---- Declare and append important paths\n",
    "\n",
    "# add the full path to the rtcloud repo\n",
    "path_to_rtcloud = os.getenv('RTCLOUD_PATH')\n",
    "if path_to_rtcloud == None:\n",
    "    print(\"Please set RTCLOUD_PATH, see instructions\")\n",
    "    raise ValueError\n",
    "# append the python path to the rtcloud repo to access rtCommon functions\n",
    "sys.path.append(path_to_rtcloud)\n",
    "    \n",
    "# declare the path to this jupyter notebook\n",
    "path_to_notebook = os.getcwd()  # check and change notebook path as needed\n",
    "\n",
    "# declare the scripts that will be wrapped by the projectInterface and \n",
    "#   accessed through the webServer\n",
    "scriptToRun = os.path.join(path_to_notebook, 'sample.py')\n",
    "initScript = os.path.join(path_to_notebook, 'initialize.py')\n",
    "finalizeScript = os.path.join(path_to_notebook, 'finalize.py')\n",
    "\n",
    "#---- Load important rtcloud modules\n",
    "\n",
    "from rtCommon.projectInterface import Web\n",
    "from rtCommon.structDict import StructDict\n",
    "\n",
    "#---- Load important brainiak modules\n",
    "import brainiak.utils.fmrisim_real_time_generator as sim\n",
    "\n",
    "#---- Declare the total number of TRs (timepoints) you want to generate, and how many should be training\n",
    "num_TRs = 200\n",
    "num_training = int(num_TRs*(2/3))"
   ]
  },
  {
   "cell_type": "markdown",
   "metadata": {},
   "source": [
    "## Step 1: Start the ProjectInterface Web Server <a id='start_ProjectInterface'></a>"
   ]
  },
  {
   "cell_type": "code",
   "execution_count": 2,
   "metadata": {},
   "outputs": [
    {
     "name": "stdout",
     "output_type": "stream",
     "text": [
      "Listening on: http://localhost:8883\n"
     ]
    }
   ],
   "source": [
    "#---- Set up the config and parameters for this rtcloud tutorial\n",
    "\n",
    "# NOTE: you can also change these parameters in the Settings tab on the web server\n",
    "config = StructDict({\n",
    "    'title' : 'rtCloud Tutorial',\n",
    "    'sessionId' : '20200101T120000',\n",
    "    'subjectName' : '001_synthetic',\n",
    "    'datestr' : '20200101',\n",
    "    \n",
    "    'isSynthetic' : True,\n",
    "    'numSynthetic' : num_TRs,\n",
    "    'numTrainingTRs' : num_training,\n",
    "    'imgDir' : '/tmp/notebook-simdata',\n",
    "    \n",
    "    'subjectNum' : 101,\n",
    "    'subjectDay' : 1,\n",
    "    'sessionNum' : 1,\n",
    "    'runNum' : [1],\n",
    "    'scanNum' : [14],\n",
    "\n",
    "    # Plotting settings\n",
    "    'plotTitle' : 'Realtime Plot',\n",
    "    'plotXLabel' : 'TR #',\n",
    "    'plotYLabel' : 'Classifier Prediction',\n",
    "    'plotXRangeLow' : num_training,\n",
    "    'plotXRangeHigh' : num_TRs,\n",
    "    'plotYRangeLow' : -1,\n",
    "    'plotYRangeHigh' : 1,\n",
    "    'plotAutoRangeX' : False,\n",
    "    'plotAutoRangeY' : True,\n",
    "\n",
    "    # important variables about the dicom files\n",
    "    'dicomNamePattern' : \"rt_{run:03d}.dcm\",\n",
    "    'minExpectedDicomSize' : 200000,\n",
    "})\n",
    "\n",
    "params = StructDict({\n",
    "    'fmriPyScript': scriptToRun,\n",
    "    'initScript': initScript,\n",
    "    'finalizeScript': finalizeScript,\n",
    "    'filesremote': False,\n",
    "    'port': 8889\n",
    "})\n",
    "\n",
    "#---- Start the web server\n",
    "\n",
    "web = Web()\n",
    "try:\n",
    "    web.start(params, config, testMode=True)\n",
    "    print(true)\n",
    "except RuntimeError as err:\n",
    "    # ignore event loop already running error\n",
    "    if str(err) != 'This event loop is already running':\n",
    "        raise"
   ]
  },
  {
   "cell_type": "markdown",
   "metadata": {},
   "source": [
    "***\n",
    "\n",
    "**IMPORTANT:**\n",
    "\n",
    "You can only run this cell to start the projectInterface web server only once or else you will get the following runtime error: \n",
    "```\n",
    "Web Server already running\n",
    "```\n",
    "If you want to re-start the web server, you have to first SHUT DOWN the kernel. Instructions for doing this can be found [here](https://jupyter-notebook-beginner-guide.readthedocs.io/en/latest/execute.html#close-a-notebook-kernel-shut-down).\n",
    "\n",
    "***"
   ]
  },
  {
   "cell_type": "markdown",
   "metadata": {},
   "source": [
    "## Step 2: Start the Synthetic Data Generator <a id='start_DataGenerator'></a>\n",
    "\n",
    "We will be using a BrainIAK function to create synthetic fMRI data. After you run the following cell, you can execute `sim_settings` in a separate cell to take a look at the different parameter settings. For instance, you will find that the synthetic data is being produced at a rate of 2 seconds per TRs."
   ]
  },
  {
   "cell_type": "code",
   "execution_count": 3,
   "metadata": {
    "collapsed": true
   },
   "outputs": [],
   "source": [
    "#---- Set up the parameters for the synthetic data generator\n",
    "\n",
    "sim_settings = sim.default_settings\n",
    "sim_settings['save_dicom'] = True\n",
    "sim_settings['save_realtime'] = True\n",
    "sim_settings['numTRs'] = num_TRs\n",
    "sim_settings['different_ROIs'] = True\n",
    "\n",
    "outdir = '/tmp/notebook-simdata'\n",
    "if not os.path.exists(outdir):\n",
    "    os.makedirs(outdir)\n",
    "\n",
    "#---- Run sim.generate_data(outdir, sim_settings) as a thread\n",
    "\n",
    "syndata_thread = threading.Thread(name='syndata', \n",
    "                                  target=sim.generate_data, \n",
    "                                  args=(outdir, sim_settings))\n",
    "syndata_thread.setDaemon(True)\n",
    "syndata_thread.start()"
   ]
  },
  {
   "cell_type": "markdown",
   "metadata": {},
   "source": [
    "***\n",
    "**IMPORTANT:**\n",
    "\n",
    "You can only run this cell to generate the synthetic data in \"real-time\" once unless you delete the data that you have already created. Otherwise, all the data (which is found in the `/tmp/notebook-simdata` folder) will be automatically available when you open the web server, instead of having the File Watcher wait for incoming data one TR at a time.\n",
    "\n",
    "***"
   ]
  },
  {
   "cell_type": "markdown",
   "metadata": {},
   "source": [
    "## Step 3: Open the Web Server on the localhost <a id='open_localhost'></a>"
   ]
  },
  {
   "cell_type": "markdown",
   "metadata": {},
   "source": [
    "The first time you open the web server, either in the cell below or in a separate browser tab, you will be prompted to enter a username and password. In this demonstration, you will use \"test\" for both. Once you have logged in you will be on the Run tab. You can start the sample.py script running and waiting for dicom data to process by clicking the 'run' button within the webpage 'Run' tab. Then you will see the output as the script progresses within the view pane of the Run tab.\n",
    "\n",
    "If you want to re-run the sample.py script after making changes, you will most likely get the following error message: `Error: Client thread already runnning, skipping new request`. You will have to restart the kernel like in step 1."
   ]
  },
  {
   "cell_type": "code",
   "execution_count": 4,
   "metadata": {
    "scrolled": true
   },
   "outputs": [
    {
     "data": {
      "text/html": [
       "<iframe src=\"http://localhost:8883\" width=\"800\" height=\"600\"></iframe>\n"
      ],
      "text/plain": [
       "<IPython.core.display.HTML object>"
      ]
     },
     "metadata": {},
     "output_type": "display_data"
    },
    {
     "name": "stderr",
     "output_type": "stream",
     "text": [
      "WARNING:brainiak.utils.fmrisim:Stimfunction may be the wrong shape\n",
      "WARNING:brainiak.utils.fmrisim:Stimfunction may be the wrong shape\n"
     ]
    }
   ],
   "source": [
    "%%html\n",
    "<iframe src=\"http://localhost:8889\" width=\"800\" height=\"600\"></iframe>"
   ]
  },
  {
   "cell_type": "markdown",
   "metadata": {},
   "source": [
    "## Conclusion <a id='conclusion'></a>\n",
    "\n",
    "You have now completed running a real-time experiment using a distributed computing pipeline (managed by the projectInterface). The synthetic data was sent to the sample.py script in real-time as it was generated, and the script started by building a classifier and then performing classification.\n",
    "\n",
    "As a next step you can try modifying or using your own script in place of sample.py, and you can also try running the projectInterface on a cloud VM which eliminates the need for expensive computer hardware within the control room.\n",
    "\n",
    "We're excited to see what interesting real-time experiments you will create!\n"
   ]
  }
 ],
 "metadata": {
  "kernelspec": {
   "display_name": "Python 3",
   "language": "python",
   "name": "python3"
  },
  "language_info": {
   "codemirror_mode": {
    "name": "ipython",
    "version": 3
   },
   "file_extension": ".py",
   "mimetype": "text/x-python",
   "name": "python",
   "nbconvert_exporter": "python",
   "pygments_lexer": "ipython3",
   "version": "3.5.2"
  }
 },
 "nbformat": 4,
 "nbformat_minor": 4
}
